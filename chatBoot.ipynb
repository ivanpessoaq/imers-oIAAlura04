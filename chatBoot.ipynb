{
  "nbformat": 4,
  "nbformat_minor": 0,
  "metadata": {
    "colab": {
      "provenance": [],
      "authorship_tag": "ABX9TyOdzmUp6Nm1al4nRvnVf5Rz",
      "include_colab_link": true
    },
    "kernelspec": {
      "name": "python3",
      "display_name": "Python 3"
    },
    "language_info": {
      "name": "python"
    }
  },
  "cells": [
    {
      "cell_type": "markdown",
      "metadata": {
        "id": "view-in-github",
        "colab_type": "text"
      },
      "source": [
        "<a href=\"https://colab.research.google.com/github/ivanpessoaq/imersaoIAAlura04/blob/main/chatBoot.ipynb\" target=\"_parent\"><img src=\"https://colab.research.google.com/assets/colab-badge.svg\" alt=\"Open In Colab\"/></a>"
      ]
    },
    {
      "cell_type": "markdown",
      "source": [
        "instalando SDK do Google Generative"
      ],
      "metadata": {
        "id": "Iet_oH40W6yc"
      }
    },
    {
      "cell_type": "code",
      "execution_count": null,
      "metadata": {
        "colab": {
          "base_uri": "https://localhost:8080/"
        },
        "id": "SYm2LTz_TvmA",
        "outputId": "d258e357-27dc-4451-ec05-e8dc0c4a2bb1"
      },
      "outputs": [
        {
          "output_type": "stream",
          "name": "stdout",
          "text": [
            "\u001b[2K     \u001b[90m━━━━━━━━━━━━━━━━━━━━━━━━━━━━━━━━━━━━━━━━\u001b[0m \u001b[32m150.7/150.7 kB\u001b[0m \u001b[31m1.7 MB/s\u001b[0m eta \u001b[36m0:00:00\u001b[0m\n",
            "\u001b[2K     \u001b[90m━━━━━━━━━━━━━━━━━━━━━━━━━━━━━━━━━━━━━━━━\u001b[0m \u001b[32m677.8/677.8 kB\u001b[0m \u001b[31m9.9 MB/s\u001b[0m eta \u001b[36m0:00:00\u001b[0m\n",
            "\u001b[?25h"
          ]
        }
      ],
      "source": [
        "!pip install -q -U google-generativeai\n"
      ]
    },
    {
      "cell_type": "code",
      "source": [
        "import google.generativeai as genai\n",
        "from google.colab import userdata\n",
        "api_key = userdata.get(\"Secret_key\")\n",
        "\n",
        "genai.configure(api_key=api_key)"
      ],
      "metadata": {
        "id": "3W_NntS-XUcv"
      },
      "execution_count": 36,
      "outputs": []
    },
    {
      "cell_type": "markdown",
      "source": [
        "Listar os modelos disponíveis"
      ],
      "metadata": {
        "id": "qtSvpunxXjOT"
      }
    },
    {
      "cell_type": "code",
      "source": [
        "for m in genai.list_models():\n",
        "  if \"generateContent\" in m.supported_generation_methods:\n",
        "    print(m.name)"
      ],
      "metadata": {
        "colab": {
          "base_uri": "https://localhost:8080/",
          "height": 139
        },
        "id": "h4hei1ZlXnfu",
        "outputId": "f27faada-9fb1-4e25-8e8c-59f6b8bc4015"
      },
      "execution_count": 37,
      "outputs": [
        {
          "output_type": "stream",
          "name": "stdout",
          "text": [
            "models/gemini-1.0-pro\n",
            "models/gemini-1.0-pro-001\n",
            "models/gemini-1.0-pro-latest\n",
            "models/gemini-1.0-pro-vision-latest\n",
            "models/gemini-1.5-pro-latest\n",
            "models/gemini-pro\n",
            "models/gemini-pro-vision\n"
          ]
        }
      ]
    },
    {
      "cell_type": "code",
      "source": [
        "config_generativo = {\n",
        "    \"candidate_count\":1,\n",
        "    \"temperature\":0.5,\n",
        "}"
      ],
      "metadata": {
        "id": "HEVHI1iga0e4"
      },
      "execution_count": 38,
      "outputs": []
    },
    {
      "cell_type": "code",
      "source": [
        "configuracao_seguranca = {\n",
        "     \"HARASSMENT\": \"BLOCK_NONE\",\n",
        "     \"HATE\": \"BLOCK_NONE\",\n",
        "     \"SEXUAL\": \"BLOCK_NONE\",\n",
        "     \"DANGEROUS\": \"BLOCK_NONE\",\n",
        " }"
      ],
      "metadata": {
        "id": "cf9SKxCGbTry"
      },
      "execution_count": 39,
      "outputs": []
    },
    {
      "cell_type": "markdown",
      "source": [
        "Inicializar modelo"
      ],
      "metadata": {
        "id": "_oOdchvKc00i"
      }
    },
    {
      "cell_type": "code",
      "source": [
        "model = genai.GenerativeModel(model_name=\"gemini-1.0-pro\",\n",
        "                              generation_config = config_generativo,\n",
        "                              safety_settings = configuracao_seguranca)"
      ],
      "metadata": {
        "id": "f8cxOFc_c3E5"
      },
      "execution_count": 40,
      "outputs": []
    },
    {
      "cell_type": "code",
      "source": [
        "response = model.generate_content(\"Vamos aprender IA. me dê sugestões\")\n",
        "print(response.text)"
      ],
      "metadata": {
        "colab": {
          "base_uri": "https://localhost:8080/",
          "height": 555
        },
        "collapsed": true,
        "id": "Ohxs5PIrf9KN",
        "outputId": "85ced375-b0e8-4bbe-e0ff-5914eef450bc"
      },
      "execution_count": 41,
      "outputs": [
        {
          "output_type": "stream",
          "name": "stdout",
          "text": [
            "**Recursos Online:**\n",
            "\n",
            "* **Coursera:** Cursos de IA para iniciantes e avançados da Universidade de Stanford, Universidade de Michigan e outras instituições de renome.\n",
            "* **edX:** Cursos de IA da Universidade de Harvard, MIT e Microsoft.\n",
            "* **Udemy:** Cursos de IA abrangendo vários tópicos, incluindo aprendizado de máquina, aprendizado profundo e processamento de linguagem natural.\n",
            "* **Kaggle:** Plataforma de aprendizado de IA com tutoriais, competições e conjuntos de dados.\n",
            "* **Google AI:** Recursos de aprendizado, incluindo cursos, tutoriais e documentação.\n",
            "\n",
            "**Livros:**\n",
            "\n",
            "* **Inteligência Artificial: Uma Abordagem Moderna (4ª Edição)** por Stuart Russell e Peter Norvig\n",
            "* **Aprendizado de Máquina (2ª Edição)** por Tom Mitchell\n",
            "* **Aprendizado Profundo (2ª Edição)** por Ian Goodfellow, Yoshua Bengio e Aaron Courville\n",
            "* **Processamento de Linguagem Natural com Python** por Steven Bird, Ewan Klein e Edward Loper\n",
            "* **Introdução à Inteligência Artificial (3ª Edição)** por Philip C. Jackson Jr.\n",
            "\n",
            "**Comunidades e Fóruns:**\n",
            "\n",
            "* **Reddit r/MachineLearning:** Comunidade ativa para discussões sobre aprendizado de máquina e IA.\n",
            "* **Stack Overflow:** Fórum para perguntas e respostas sobre programação, incluindo IA.\n",
            "* **Kaggle Discuss:** Fórum para discussões sobre conjuntos de dados, competições e técnicas de IA.\n",
            "* **TensorFlow Forum:** Fórum oficial para a estrutura TensorFlow de aprendizado de máquina.\n",
            "* **PyTorch Forum:** Fórum oficial para a estrutura PyTorch de aprendizado de máquina.\n",
            "\n",
            "**Projetos Práticos:**\n",
            "\n",
            "* **Construa um Chatbot com Python:** Aprenda a criar um chatbot simples usando processamento de linguagem natural.\n",
            "* **Classifique Imagens com Aprendizado de Máquina:** Use o aprendizado de máquina para treinar um modelo para classificar imagens.\n",
            "* **Preveja Vendas com Aprendizado Profundo:** Use o aprendizado profundo para prever vendas com base em dados históricos.\n",
            "* **Participe de Competições Kaggle:** Participe de competições de IA para aprimorar suas habilidades e aprender com outros.\n",
            "* **Crie um Aplicativo de IA:** Desenvolva um aplicativo que use IA para resolver um problema específico.\n"
          ]
        }
      ]
    },
    {
      "cell_type": "code",
      "source": [
        "chat = model.start_chat(history=[])"
      ],
      "metadata": {
        "id": "MV7ZFCImgOLU"
      },
      "execution_count": null,
      "outputs": []
    },
    {
      "cell_type": "code",
      "source": [
        "prompt = input(\"Esperando prompt: \")\n",
        "\n",
        "while prompt  != \"fim\":\n",
        "  response = chat.send_message(prompt)\n",
        "  print(\"Resposta: \", response.text, \"\\n\")\n",
        "  prompt = input(\"Esperando prompt: \")"
      ],
      "metadata": {
        "colab": {
          "base_uri": "https://localhost:8080/",
          "height": 86
        },
        "collapsed": true,
        "id": "-XqSHF-IgqOt",
        "outputId": "b759f922-c57b-47da-a338-9721062014a7"
      },
      "execution_count": null,
      "outputs": [
        {
          "name": "stdout",
          "output_type": "stream",
          "text": [
            "Esperando prompt: olá\n",
            "Resposta:  Olá, como posso ajudá-lo hoje? \n",
            "\n",
            "Esperando prompt: fim\n"
          ]
        }
      ]
    },
    {
      "cell_type": "code",
      "source": [
        "#Melhorando a visualização\n",
        "#Código disponível em https://ai.google.dev/tutorials/python_quickstart#import_packages\n",
        "import textwrap\n",
        "from IPython.display import display\n",
        "from IPython.display import Markdown\n",
        "\n",
        "def to_markdown(text):\n",
        "  text = text.replace('•', '  *')\n",
        "  return Markdown(textwrap.indent(text, '> ', predicate=lambda _: True))\n",
        "\n",
        "#Imprimindo o histórico\n",
        "for message in chat.history:\n",
        "  display(to_markdown(f'**{message.role}**: {message.parts[0].text}'))\n",
        "  print('-------------------------------------------')"
      ],
      "metadata": {
        "colab": {
          "base_uri": "https://localhost:8080/",
          "height": 142
        },
        "id": "oDjzeH7shKVN",
        "outputId": "a3464853-6cc9-489d-c555-2a3e46bd7a5b"
      },
      "execution_count": null,
      "outputs": [
        {
          "output_type": "display_data",
          "data": {
            "text/plain": [
              "<IPython.core.display.Markdown object>"
            ],
            "text/markdown": "> **user**: olá"
          },
          "metadata": {}
        },
        {
          "output_type": "stream",
          "name": "stdout",
          "text": [
            "-------------------------------------------\n"
          ]
        },
        {
          "output_type": "display_data",
          "data": {
            "text/plain": [
              "<IPython.core.display.Markdown object>"
            ],
            "text/markdown": "> **model**: Olá, como posso ajudá-lo hoje?"
          },
          "metadata": {}
        },
        {
          "output_type": "stream",
          "name": "stdout",
          "text": [
            "-------------------------------------------\n"
          ]
        }
      ]
    },
    {
      "cell_type": "code",
      "source": [
        "chat.history"
      ],
      "metadata": {
        "colab": {
          "base_uri": "https://localhost:8080/"
        },
        "id": "E40J4zmaliUa",
        "outputId": "a18503e8-e0bb-444c-c149-e270e4fc4e3f"
      },
      "execution_count": null,
      "outputs": [
        {
          "output_type": "execute_result",
          "data": {
            "text/plain": [
              "[parts {\n",
              "   text: \"ol\\303\\241\"\n",
              " }\n",
              " role: \"user\",\n",
              " parts {\n",
              "   text: \"Ol\\303\\241, como posso ajud\\303\\241-lo hoje?\"\n",
              " }\n",
              " role: \"model\"]"
            ]
          },
          "metadata": {},
          "execution_count": 35
        }
      ]
    }
  ]
}