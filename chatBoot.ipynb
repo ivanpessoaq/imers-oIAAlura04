{
  "nbformat": 4,
  "nbformat_minor": 0,
  "metadata": {
    "colab": {
      "provenance": [],
      "authorship_tag": "ABX9TyMJ1iPMdTwwimKCt1AuxCDl",
      "include_colab_link": true
    },
    "kernelspec": {
      "name": "python3",
      "display_name": "Python 3"
    },
    "language_info": {
      "name": "python"
    }
  },
  "cells": [
    {
      "cell_type": "markdown",
      "metadata": {
        "id": "view-in-github",
        "colab_type": "text"
      },
      "source": [
        "<a href=\"https://colab.research.google.com/github/ivanpessoaq/imersaoIAAlura04/blob/main/chatBoot.ipynb\" target=\"_parent\"><img src=\"https://colab.research.google.com/assets/colab-badge.svg\" alt=\"Open In Colab\"/></a>"
      ]
    },
    {
      "cell_type": "markdown",
      "source": [
        "instalando SDK do Google Generative"
      ],
      "metadata": {
        "id": "Iet_oH40W6yc"
      }
    },
    {
      "cell_type": "code",
      "execution_count": null,
      "metadata": {
        "colab": {
          "base_uri": "https://localhost:8080/"
        },
        "id": "SYm2LTz_TvmA",
        "outputId": "d258e357-27dc-4451-ec05-e8dc0c4a2bb1"
      },
      "outputs": [
        {
          "output_type": "stream",
          "name": "stdout",
          "text": [
            "\u001b[2K     \u001b[90m━━━━━━━━━━━━━━━━━━━━━━━━━━━━━━━━━━━━━━━━\u001b[0m \u001b[32m150.7/150.7 kB\u001b[0m \u001b[31m1.7 MB/s\u001b[0m eta \u001b[36m0:00:00\u001b[0m\n",
            "\u001b[2K     \u001b[90m━━━━━━━━━━━━━━━━━━━━━━━━━━━━━━━━━━━━━━━━\u001b[0m \u001b[32m677.8/677.8 kB\u001b[0m \u001b[31m9.9 MB/s\u001b[0m eta \u001b[36m0:00:00\u001b[0m\n",
            "\u001b[?25h"
          ]
        }
      ],
      "source": [
        "!pip install -q -U google-generativeai\n"
      ]
    },
    {
      "cell_type": "code",
      "source": [
        "import google.generativeai as genai\n",
        "\n",
        "GOOGLE_API_KEY=\"SUA_API_KEY\"\n",
        "genai.configure(api_key=GOOGLE_API_KEY)"
      ],
      "metadata": {
        "id": "3W_NntS-XUcv"
      },
      "execution_count": null,
      "outputs": []
    },
    {
      "cell_type": "markdown",
      "source": [
        "Listar os modelos disponíveis"
      ],
      "metadata": {
        "id": "qtSvpunxXjOT"
      }
    },
    {
      "cell_type": "code",
      "source": [
        "for m in genai.list_models():\n",
        "  if \"generateContent\" in m.supported_generation_methods:\n",
        "    print(m.name)"
      ],
      "metadata": {
        "colab": {
          "base_uri": "https://localhost:8080/",
          "height": 139
        },
        "id": "h4hei1ZlXnfu",
        "outputId": "0d659fc7-59c8-4257-d8e5-4f6aee721fcb"
      },
      "execution_count": null,
      "outputs": [
        {
          "output_type": "stream",
          "name": "stdout",
          "text": [
            "models/gemini-1.0-pro\n",
            "models/gemini-1.0-pro-001\n",
            "models/gemini-1.0-pro-latest\n",
            "models/gemini-1.0-pro-vision-latest\n",
            "models/gemini-1.5-pro-latest\n",
            "models/gemini-pro\n",
            "models/gemini-pro-vision\n"
          ]
        }
      ]
    },
    {
      "cell_type": "code",
      "source": [
        "config_generativo = {\n",
        "    \"candidate_count\":1,\n",
        "    \"temperature\":0.5,\n",
        "}"
      ],
      "metadata": {
        "id": "HEVHI1iga0e4"
      },
      "execution_count": null,
      "outputs": []
    },
    {
      "cell_type": "code",
      "source": [
        "configuracao_seguranca = {\n",
        "     \"HARASSMENT\": \"BLOCK_NONE\",\n",
        "     \"HATE\": \"BLOCK_NONE\",\n",
        "     \"SEXUAL\": \"BLOCK_NONE\",\n",
        "     \"DANGEROUS\": \"BLOCK_NONE\",\n",
        " }"
      ],
      "metadata": {
        "id": "cf9SKxCGbTry"
      },
      "execution_count": null,
      "outputs": []
    },
    {
      "cell_type": "markdown",
      "source": [
        "Inicializar modelo"
      ],
      "metadata": {
        "id": "_oOdchvKc00i"
      }
    },
    {
      "cell_type": "code",
      "source": [
        "model = genai.GenerativeModel(model_name=\"gemini-1.0-pro\",\n",
        "                              generation_config = config_generativo,\n",
        "                              safety_settings = configuracao_seguranca)"
      ],
      "metadata": {
        "id": "f8cxOFc_c3E5"
      },
      "execution_count": null,
      "outputs": []
    },
    {
      "cell_type": "code",
      "source": [
        "response = model.generate_content(\"Vamos aprender IA. me dê sugestões\")\n",
        "print(response.text)"
      ],
      "metadata": {
        "colab": {
          "base_uri": "https://localhost:8080/",
          "height": 694
        },
        "collapsed": true,
        "id": "Ohxs5PIrf9KN",
        "outputId": "63b3f7f9-cabe-496c-d744-64f815d4dac2"
      },
      "execution_count": null,
      "outputs": [
        {
          "output_type": "stream",
          "name": "stdout",
          "text": [
            "**Recursos Online:**\n",
            "\n",
            "* **Coursera:** Cursos de IA de universidades de renome, como Stanford e Google.\n",
            "* **edX:** Cursos de IA de instituições como MIT e Harvard.\n",
            "* **Udemy:** Cursos de IA para iniciantes e avançados.\n",
            "* **DataCamp:** Cursos de IA práticos com foco em codificação.\n",
            "* **Kaggle:** Comunidade online para aprendizado de IA e competições de ciência de dados.\n",
            "\n",
            "**Livros:**\n",
            "\n",
            "* **Inteligência Artificial: Uma Abordagem Moderna (Stuart Russell e Peter Norvig)**\n",
            "* **Aprendizado de Máquina (Tom Mitchell)**\n",
            "* **Inteligência Artificial para Todos (Andrew Ng)**\n",
            "* **Aprendizado Profundo (Ian Goodfellow, Yoshua Bengio e Aaron Courville)**\n",
            "* **Inteligência Artificial Prática (Peter Norvig)**\n",
            "\n",
            "**Canais do YouTube:**\n",
            "\n",
            "* **3Blue1Brown:** Explicações visuais claras de conceitos de IA.\n",
            "* **DeepMind:** Canal oficial do laboratório de pesquisa de IA do Google.\n",
            "* **MIT OpenCourseWare:** Gravações de palestras de IA do MIT.\n",
            "* **Stanford CS229:** Palestras de IA da Universidade de Stanford.\n",
            "* **Khan Academy:** Tutoriais de IA para iniciantes.\n",
            "\n",
            "**Comunidades Online:**\n",
            "\n",
            "* **Reddit r/MachineLearning:** Comunidade ativa para discussão de IA e aprendizado de máquina.\n",
            "* **Stack Overflow:** Fórum para perguntas e respostas técnicas sobre IA.\n",
            "* **Meetup:** Grupos locais para networking e aprendizado de IA.\n",
            "* **AI Stack Exchange:** Fórum específico para perguntas e respostas sobre IA.\n",
            "* **GitHub:** Repositório de código aberto com projetos e recursos de IA.\n",
            "\n",
            "**Projetos Práticos:**\n",
            "\n",
            "* **Construa um chatbot:** Use bibliotecas de processamento de linguagem natural para criar um chatbot que responda a perguntas.\n",
            "* **Treine um modelo de classificação de imagens:** Use conjuntos de dados de imagens e redes neurais para treinar um modelo que possa classificar imagens.\n",
            "* **Crie um sistema de recomendação:** Use aprendizado de máquina para recomendar produtos ou conteúdo aos usuários.\n",
            "* **Desenvolva um aplicativo de reconhecimento facial:** Use algoritmos de visão computacional para construir um aplicativo que possa reconhecer rostos.\n",
            "* **Participe de competições de ciência de dados:** Participe de competições de IA para testar suas habilidades e aprender com outros.\n"
          ]
        }
      ]
    },
    {
      "cell_type": "code",
      "source": [
        "chat = model.start_chat(history=[])"
      ],
      "metadata": {
        "id": "MV7ZFCImgOLU"
      },
      "execution_count": null,
      "outputs": []
    },
    {
      "cell_type": "code",
      "source": [
        "prompt = input(\"Esperando prompt: \")\n",
        "\n",
        "while prompt  != \"fim\":\n",
        "  response = chat.send_message(prompt)\n",
        "  print(\"Resposta: \", response.text, \"\\n\")\n",
        "  prompt = input(\"Esperando prompt: \")"
      ],
      "metadata": {
        "colab": {
          "base_uri": "https://localhost:8080/",
          "height": 86
        },
        "collapsed": true,
        "id": "-XqSHF-IgqOt",
        "outputId": "b759f922-c57b-47da-a338-9721062014a7"
      },
      "execution_count": null,
      "outputs": [
        {
          "name": "stdout",
          "output_type": "stream",
          "text": [
            "Esperando prompt: olá\n",
            "Resposta:  Olá, como posso ajudá-lo hoje? \n",
            "\n",
            "Esperando prompt: fim\n"
          ]
        }
      ]
    },
    {
      "cell_type": "code",
      "source": [
        "#Melhorando a visualização\n",
        "#Código disponível em https://ai.google.dev/tutorials/python_quickstart#import_packages\n",
        "import textwrap\n",
        "from IPython.display import display\n",
        "from IPython.display import Markdown\n",
        "\n",
        "def to_markdown(text):\n",
        "  text = text.replace('•', '  *')\n",
        "  return Markdown(textwrap.indent(text, '> ', predicate=lambda _: True))\n",
        "\n",
        "#Imprimindo o histórico\n",
        "for message in chat.history:\n",
        "  display(to_markdown(f'**{message.role}**: {message.parts[0].text}'))\n",
        "  print('-------------------------------------------')"
      ],
      "metadata": {
        "colab": {
          "base_uri": "https://localhost:8080/",
          "height": 142
        },
        "id": "oDjzeH7shKVN",
        "outputId": "a3464853-6cc9-489d-c555-2a3e46bd7a5b"
      },
      "execution_count": null,
      "outputs": [
        {
          "output_type": "display_data",
          "data": {
            "text/plain": [
              "<IPython.core.display.Markdown object>"
            ],
            "text/markdown": "> **user**: olá"
          },
          "metadata": {}
        },
        {
          "output_type": "stream",
          "name": "stdout",
          "text": [
            "-------------------------------------------\n"
          ]
        },
        {
          "output_type": "display_data",
          "data": {
            "text/plain": [
              "<IPython.core.display.Markdown object>"
            ],
            "text/markdown": "> **model**: Olá, como posso ajudá-lo hoje?"
          },
          "metadata": {}
        },
        {
          "output_type": "stream",
          "name": "stdout",
          "text": [
            "-------------------------------------------\n"
          ]
        }
      ]
    },
    {
      "cell_type": "code",
      "source": [
        "chat.history"
      ],
      "metadata": {
        "colab": {
          "base_uri": "https://localhost:8080/"
        },
        "id": "E40J4zmaliUa",
        "outputId": "a18503e8-e0bb-444c-c149-e270e4fc4e3f"
      },
      "execution_count": null,
      "outputs": [
        {
          "output_type": "execute_result",
          "data": {
            "text/plain": [
              "[parts {\n",
              "   text: \"ol\\303\\241\"\n",
              " }\n",
              " role: \"user\",\n",
              " parts {\n",
              "   text: \"Ol\\303\\241, como posso ajud\\303\\241-lo hoje?\"\n",
              " }\n",
              " role: \"model\"]"
            ]
          },
          "metadata": {},
          "execution_count": 35
        }
      ]
    }
  ]
}